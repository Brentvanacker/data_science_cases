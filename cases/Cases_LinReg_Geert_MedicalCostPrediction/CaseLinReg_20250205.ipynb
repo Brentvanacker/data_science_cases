{
 "cells": [
  {
   "cell_type": "code",
   "execution_count": null,
   "metadata": {},
   "outputs": [],
   "source": [
    "Notebook Linear Regression Case\n",
    "Oefening Data Scientist \n",
    "Geert Vandezande\n",
    "\n",
    "Doel:\n",
    "- Supervised Learning toepassen\n",
    "- EDA uitvoeren op een dataset\n",
    "- Lineair Regression toepassen op de data\n",
    "\n",
    "Dataset: \n",
    "- More info: see kaggle https://www.kaggle.com/datasets/arifmia/heart-attack-risk-dataset\n",
    "\n",
    "\n",
    "Volgorde van activiteiten in deze notebook: (cfr Datacamp \"preparing data for modelling)\n",
    "- data inlezen\n",
    "- data bekijken, visueel en numerisch\n",
    "- data summarizen via summarytools\n",
    "- missing data oplossen \n",
    "- incorrect types controleren\n",
    "- Numerische waarde standardizeren\n",
    "- Categorische varaiabelen processen\n",
    "- Feature engineering\n",
    "- select features for modelling\n",
    "- unbalance van de features corrigeren met SMOTE checken\n",
    "- modeling met Linear Regression, Decision Tree Regression en Random Forrest Regression\n",
    "- modeling met Hyperparameter tuning met GridSearchCV\n",
    "- modeling met Optuna voor Hyperparameter tuning"
   ]
  }
 ],
 "metadata": {
  "language_info": {
   "name": "python"
  }
 },
 "nbformat": 4,
 "nbformat_minor": 2
}
